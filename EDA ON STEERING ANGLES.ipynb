{
 "cells": [
  {
   "cell_type": "code",
   "execution_count": 1,
   "id": "6d555a37",
   "metadata": {},
   "outputs": [],
   "source": [
    "file = open(\"driving_dataset/data.txt\")"
   ]
  },
  {
   "cell_type": "code",
   "execution_count": 2,
   "id": "4e719723",
   "metadata": {},
   "outputs": [],
   "source": [
    "data = file.readlines()"
   ]
  },
  {
   "cell_type": "code",
   "execution_count": 3,
   "id": "9a38b0d9",
   "metadata": {},
   "outputs": [],
   "source": [
    "new_data =[]\n",
    "\n",
    "import re"
   ]
  },
  {
   "cell_type": "code",
   "execution_count": 24,
   "id": "a1207c55",
   "metadata": {},
   "outputs": [
    {
     "data": {
      "text/plain": [
       "['0.jpg 0.000000\\n',\n",
       " '1.jpg 0.000000\\n',\n",
       " '2.jpg 0.000000\\n',\n",
       " '3.jpg 0.000000\\n',\n",
       " '4.jpg 0.000000\\n',\n",
       " '5.jpg 0.000000\\n',\n",
       " '6.jpg 0.000000\\n',\n",
       " '7.jpg 0.000000\\n',\n",
       " '8.jpg 0.000000\\n',\n",
       " '9.jpg 0.000000\\n']"
      ]
     },
     "execution_count": 24,
     "metadata": {},
     "output_type": "execute_result"
    }
   ],
   "source": [
    "data[:10]"
   ]
  },
  {
   "cell_type": "code",
   "execution_count": 5,
   "id": "f99a693d",
   "metadata": {},
   "outputs": [],
   "source": [
    "for x in data:\n",
    "    text = re.sub('[0-9]+.jpg',\"\",x)\n",
    "    new_data.append(text)"
   ]
  },
  {
   "cell_type": "code",
   "execution_count": 23,
   "id": "7d3fe75a",
   "metadata": {},
   "outputs": [
    {
     "data": {
      "text/plain": [
       "[' 0.000000\\n',\n",
       " ' 0.000000\\n',\n",
       " ' 0.000000\\n',\n",
       " ' 0.000000\\n',\n",
       " ' 0.000000\\n',\n",
       " ' 0.000000\\n',\n",
       " ' 0.000000\\n',\n",
       " ' 0.000000\\n',\n",
       " ' 0.000000\\n',\n",
       " ' 0.000000\\n']"
      ]
     },
     "execution_count": 23,
     "metadata": {},
     "output_type": "execute_result"
    }
   ],
   "source": [
    "new_data[:10]"
   ]
  },
  {
   "cell_type": "code",
   "execution_count": 7,
   "id": "4b8f90e7",
   "metadata": {},
   "outputs": [],
   "source": [
    "new_data1 =[]\n",
    "for x in new_data:\n",
    "    text = re.sub('\\n',\"\",x)\n",
    "    new_data1.append(text)"
   ]
  },
  {
   "cell_type": "code",
   "execution_count": 22,
   "id": "de8dae8b",
   "metadata": {},
   "outputs": [
    {
     "data": {
      "text/plain": [
       "[0.0, 0.0, 0.0, 0.0, 0.0, 0.0, 0.0, 0.0, 0.0, 0.0]"
      ]
     },
     "execution_count": 22,
     "metadata": {},
     "output_type": "execute_result"
    }
   ],
   "source": [
    "new_data1[:10]"
   ]
  },
  {
   "cell_type": "code",
   "execution_count": 12,
   "id": "fa543525",
   "metadata": {},
   "outputs": [],
   "source": [
    "new_data1 = list(map(float,new_data1))"
   ]
  },
  {
   "cell_type": "code",
   "execution_count": 16,
   "id": "8da83099",
   "metadata": {},
   "outputs": [],
   "source": [
    "import seaborn as sns"
   ]
  },
  {
   "cell_type": "code",
   "execution_count": 19,
   "id": "d9c175f6",
   "metadata": {},
   "outputs": [
    {
     "data": {
      "text/plain": [
       "<seaborn.axisgrid.FacetGrid at 0x15dd6b79220>"
      ]
     },
     "execution_count": 19,
     "metadata": {},
     "output_type": "execute_result"
    },
    {
     "data": {
      "image/png": "[encoded data removed]",
      "text/plain": [
       "<Figure size 360x360 with 1 Axes>"
      ]
     },
     "metadata": {
      "needs_background": "light"
     },
     "output_type": "display_data"
    }
   ],
   "source": [
    "sns.displot(new_data1)"
   ]
  },
  {
   "cell_type": "code",
   "execution_count": 20,
   "id": "f50dbd28",
   "metadata": {
    "scrolled": true
   },
   "outputs": [
    {
     "name": "stderr",
     "output_type": "stream",
     "text": [
      "C:\\Users\\Shivah Sae\\.conda\\envs\\ai\\lib\\site-packages\\seaborn\\distributions.py:2557: FutureWarning: `distplot` is a deprecated function and will be removed in a future version. Please adapt your code to use either `displot` (a figure-level function with similar flexibility) or `histplot` (an axes-level function for histograms).\n",
      "  warnings.warn(msg, FutureWarning)\n"
     ]
    },
    {
     "data": {
      "text/plain": [
       "<AxesSubplot:ylabel='Density'>"
      ]
     },
     "execution_count": 20,
     "metadata": {},
     "output_type": "execute_result"
    },
    {
     "data": {
      "image/png": "[encoded data removed]",
      "text/plain": [
       "<Figure size 432x288 with 1 Axes>"
      ]
     },
     "metadata": {
      "needs_background": "light"
     },
     "output_type": "display_data"
    }
   ],
   "source": [
    "sns.distplot(new_data1)"
   ]
  },
  {
   "cell_type": "markdown",
   "id": "802f28b9",
   "metadata": {},
   "source": [
    "# From above plot we can say that there are more datapoints with steering angle of 0. Probably the car is travellling more on a straight highway roads."
   ]
  },
  {
   "cell_type": "code",
   "execution_count": null,
   "id": "ebf1bab3",
   "metadata": {},
   "outputs": [],
   "source": []
  }
 ],
 "metadata": {
  "kernelspec": {
   "display_name": "Python 3",
   "language": "python",
   "name": "python3"
  },
  "language_info": {
   "codemirror_mode": {
    "name": "ipython",
    "version": 3
   },
   "file_extension": ".py",
   "mimetype": "text/x-python",
   "name": "python",
   "nbconvert_exporter": "python",
   "pygments_lexer": "ipython3",
   "version": "3.8.0"
  }
 },
 "nbformat": 4,
 "nbformat_minor": 5
}
